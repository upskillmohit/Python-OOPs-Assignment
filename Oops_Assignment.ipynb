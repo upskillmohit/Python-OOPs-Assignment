{
  "nbformat": 4,
  "nbformat_minor": 0,
  "metadata": {
    "colab": {
      "provenance": []
    },
    "kernelspec": {
      "name": "python3",
      "display_name": "Python 3"
    },
    "language_info": {
      "name": "python"
    }
  },
  "cells": [
    {
      "cell_type": "markdown",
      "source": [
        "#Python OOPs Questions"
      ],
      "metadata": {
        "id": "2a6KTpEkf75d"
      }
    },
    {
      "cell_type": "markdown",
      "source": [
        "\n",
        "1. What is Object-Oriented Programming (OOP) ?\n",
        " - A programming moded that emphasizes on data and objects. It helps to design software using concepts like data encapsulation, abstraction, polymorphism and inheritance.\n",
        "\n",
        "2. What is a class in OOP ?\n",
        "  - A class is a blue print or template that has some properties and methods.For example: Class Customer has properties like Name, CustomerId, Email etc. and has methods like getOrders(), getKeys() etc.\n",
        "\n",
        "3. What is an object in OOP ?\n",
        "\n",
        "  - An object is an instance of a class. It is used to access member data and methods of a class.\n",
        "\n",
        "4. What is the difference between abstraction and encapsulation?\n",
        "   \n",
        "   - Abstraction is hiding of complex details from the user and showing only relevant information to a user. For example: While purchasing a new refrigerator a salespesron highlight features which can be used by customer but do not explain about internal functioning or details of the refrigerator.\n",
        "\n",
        "   - Encapsulation is wrapping of data and functions and defining the scope to access them. It ensures safety of data so object data cannot be modified accidentally.\n",
        "\n",
        "5. What are dunder methods in Python ?\n",
        "   - Dunder/Magical methods are defined by pre-built classes. They are surrounded by double underscore(__) and commonly used for operator overloading.\n",
        "\n",
        "6. Explain the concept of inheritance in OOP ?\n",
        "\n",
        "  - The ability to inherit the properties and methods of a class is known as inheritance.It helps to implement code reusablility. For example:\n",
        "  \n",
        "   class A:\n",
        "  \n",
        "    def fuctionaA():\n",
        "\n",
        "    print(\"Function of Base Class\")\n",
        "\n",
        "    class B(A):\n",
        "\n",
        "    def functionB():\n",
        "  \n",
        "    print(\"Function of Derived Class\")\n",
        "\n",
        "    obj = B\n",
        "  \n",
        "    obj.fuctionaA()\n",
        "  \n",
        "    obj.functionB()\n",
        "\n",
        "7. What is polymorphism in OOP ?\n",
        "  \n",
        "  - The ability of an object to behave differently when calling a method with same name is known as Polymorphism.\n",
        "\n",
        "8. How is encapsulation achieved in Python ?\n",
        "  - Encapsulation can be achieved by specifying private and protected members in a class. Declaring private variables in the class, ensure it can only be accessed from within the class. And protected members of a class can only be accessed by the child class.\n",
        "\n",
        "9. What is a constructor in Python ?\n",
        "\n",
        " - It is a dunder method used to initialize the members of a class while creating it's object\n",
        "\n",
        "10. What are class and static methods in Python ?\n",
        "\n",
        " - A class method is bound to a class rather than object of a class. It is created using @classmethod decorator and can modify class state.\n",
        "\n",
        " - Static methods are bound to a class but do not require self parameter. It is created using @staticmethod decorator but cannot modify class state\n",
        "\n",
        "11. What is method overloading in Python ?\n",
        "\n",
        " - It allows a class to define multiple methods with same name but different parameters. It is implemented within the same class.\n",
        "\n",
        "12. What is method overriding in OOP ?\n",
        "\n",
        " - It allows a child class to define method with the same name and same parameters as in the parent class. It is implemented in the derived class.\n",
        "\n",
        "13. What is a property decorator in Python ?\n",
        "\n",
        " - A property decorator is used to define a method as property. It is used to get, set and delete private member of a class.\n",
        "\n",
        "14. Why is polymorphism important in OOP ?\n",
        "\n",
        "   - It increases code readability and maintainability by reducing the amount of code that needs to be written.\n",
        "   - It increases code reusablility by allowing objects of different classes to be trated as object of common classes.\n",
        "\n",
        "15. What is an abstract class in Python ?\n",
        "\n",
        "  - An abstract class has one ore more abstract methods without any implementation. It will throw an error when instantiated.\n",
        "\n",
        "16. What are the advantages of OOP ?\n",
        "\n",
        "  - Helps to organize the software design.\n",
        "  - It increases code readability and maintainability by reducing the amount of code that needs to be written.\n",
        "  - It increases code reusablility by allowing objects of different classes to be treated as object of common classes.\n",
        "  - It helps to maintain the code.\n",
        "  - It ensures safety of data so object data cannot be modified accidentally.\n",
        "\n",
        "17. What is the difference between a class variable and an instance variable ?\n",
        "    \n",
        "    - A class variable is bound to a class rather than object of a class.\n",
        "    - An instance variable is bound to an object of a class.\n",
        "\n",
        "18. What is multiple inheritance in Python ?\n",
        "\n",
        "- A child class inherited from two or more classes implement multiple inheritance in Python.\n",
        "\n",
        "  Class A:\n",
        "          body A\n",
        "  \n",
        "  Class B:\n",
        "          body B\n",
        "\n",
        "  Class C(A, B):\n",
        "        body C\n",
        "\n",
        "19. Explain the purpose of \"__str__\" and \"__repr__\" methods in Python ?\n",
        "\n",
        "   - __str__  - It is used to return a readable and user friendly string representation of an object.\n",
        "   - __repr__ - It is used to return a detailed and unambiguous string reprsentation of an object\n",
        "\n",
        "20. What is the significance of the super() function in Python?\n",
        "\n",
        "  - Super() function is used to invoke the methods of parent or base class. It increases code readability and maintainability by reducing the amount of code that needs to be written.\n",
        "\n",
        "21. What is the significance of the __del__ method in Python ?\n",
        "   \n",
        "    - __del__ is dunder method that is used for cleanup operations before an object is destroyed. It is also know as destructor method.\n",
        "\n",
        "22. What is the difference between @staticmethod and @classmethod in Python ?\n",
        "\n",
        "  - A class method is bound to a class rather than object of a class. It is created using @classmethod decorator and can modify class state.\n",
        "\n",
        " - Static methods are bound to a class but do not require self parameter. It is created using @staticmethod decorator but cannot modify class state\n",
        "\n",
        "23. How does polymorphism work in Python with inheritance ?\n",
        "\n",
        "  - Create a base class with a method that can be overridden in the child class\n",
        "  - Add new implmentation to the method in a derived class\n",
        "  - Create object of derived class and invoke the overriden method\n",
        "  - Method will return results as per new implementation in the derived class\n",
        "  \n",
        "24. What is method chaining in Python OOP ?\n",
        "\n",
        "  - It is a programming technique used to invoke multiple methods on an object in a single statement with each method returning the object itself.\n",
        "\n",
        "25. What is the purpose of the __call__ method in Python?\n",
        "\n",
        "  - It is a dunder method that allows instance of a class to be called like a function. It is useful for creating callable objects."
      ],
      "metadata": {
        "id": "pCLpKNTifsHd"
      }
    },
    {
      "cell_type": "markdown",
      "source": [
        "# Practical Questions"
      ],
      "metadata": {
        "id": "gYSS9U2G1Dur"
      }
    },
    {
      "cell_type": "code",
      "source": [
        "#1. Create a parent class Animal with a method speak() that prints a generic message. Create a child class Dog that overrides the speak() method to print \"Bark!\".\n",
        "\n",
        "class Animal:\n",
        "    def speak(self):\n",
        "        print(\"Animal sound.\")\n",
        "\n",
        "class Dog(Animal):\n",
        "    def speak(self):\n",
        "        print(\"The dog barks.\")"
      ],
      "metadata": {
        "id": "efnq8z-L1G9f"
      },
      "execution_count": null,
      "outputs": []
    },
    {
      "cell_type": "code",
      "source": [
        "#2. Write a program to create an abstract class Shape with a method area(). Derive classes Circle and Rectangle from it and implement the area() method in both.\n",
        "\n",
        "class Shape:\n",
        "    def area(self):\n",
        "        pass\n",
        "\n",
        "class Circle(Shape):\n",
        "    def area(self, rad):\n",
        "        return 3.14 * rad * rad\n",
        "\n",
        "class Rectangle(Shape):\n",
        "    def area(self, len, wid):\n",
        "        return len * wid"
      ],
      "metadata": {
        "id": "_UsJLDtw3aWp"
      },
      "execution_count": null,
      "outputs": []
    },
    {
      "cell_type": "code",
      "source": [
        "#3. Implement a multi-level inheritance scenario where a class Vehicle has an attribute type. Derive a class Car and further derive a class ElectricCar that adds a battery attribute.\n",
        "\n",
        "class Vehicle:\n",
        "    def __init__(self, type):\n",
        "        self.type = type\n",
        "class Car(Vehicle):\n",
        "    pass\n",
        "class ElectricCar(Car):\n",
        "    def __init__(self, type, battery):\n",
        "        super().__init__(type)\n",
        "        self.battery = battery"
      ],
      "metadata": {
        "id": "zIMlSac83357"
      },
      "execution_count": null,
      "outputs": []
    },
    {
      "cell_type": "code",
      "source": [
        "#4. Demonstrate polymorphism by creating a base class Bird with a method fly(). Create two derived classes Sparrow and Penguin that override the fly() method.\n",
        "\n",
        "class Bird:\n",
        "    def fly(self):\n",
        "        print(\"Birds can fly.\")\n",
        "\n",
        "class Sparrow(Bird):\n",
        "    def fly(self):\n",
        "        print(\"Sparrows can fly.\")\n",
        "\n",
        "class Penguin(Bird):\n",
        "    def fly(self):\n",
        "        print(\"Penguins cannot fly.\")"
      ],
      "metadata": {
        "id": "s7yi5uIE4pzb"
      },
      "execution_count": null,
      "outputs": []
    },
    {
      "cell_type": "code",
      "source": [
        "# 5. Write a program to demonstrate encapsulation by creating a class BankAccount with private attributes balance and methods to deposit, withdraw, and check balance.\n",
        "\n",
        "class BankAccount:\n",
        "    def __init__(self, balance):\n",
        "        self.__balance = balance\n",
        "    def deposit(self, amount):\n",
        "        self.__balance = self.__balance + amount\n",
        "    def withdraw(self, amount):\n",
        "        if self.__balance >= amount:\n",
        "            self.__balance = self.__balance - amount\n",
        "        else:\n",
        "            print(\"Insufficient balance.\")\n",
        "    def check_balance(self):\n",
        "        return self.__balance"
      ],
      "metadata": {
        "id": "nhcV5jH55W4C"
      },
      "execution_count": 5,
      "outputs": []
    },
    {
      "cell_type": "code",
      "source": [
        "# 6. Demonstrate runtime polymorphism using a method play() in a base class Instrument. Derive classes Guitar and Piano that implement their own version of play().\n",
        "\n",
        "class Instrument:\n",
        "    def play(self):\n",
        "        pass\n",
        "\n",
        "class Guitar(Instrument):\n",
        "    def play(self):\n",
        "        print(\"Guitar is playing.\")\n",
        "\n",
        "class Piano(Instrument):\n",
        "    def play(self):\n",
        "        print(\"Piano is playing.\")"
      ],
      "metadata": {
        "id": "gA_TrZTFy8sy"
      },
      "execution_count": 4,
      "outputs": []
    },
    {
      "cell_type": "code",
      "source": [
        "# 7. Create a class MathOperations with a class method add_numbers() to add two numbers and a static method subtract_numbers() to subtract two numbers.\n",
        "\n",
        "class MathOperations:\n",
        "    @classmethod\n",
        "    def add_numbers(cls, num1, num2):\n",
        "        return num1 + num2\n",
        "    @staticmethod\n",
        "    def subtract_numbers(a, b):\n",
        "        return a - b"
      ],
      "metadata": {
        "id": "lzuiDAPYzQhj"
      },
      "execution_count": 3,
      "outputs": []
    },
    {
      "cell_type": "code",
      "source": [
        "# 8. Implement a class Person with a class method to count the total number of persons created.\n",
        "\n",
        "class Person:\n",
        "    count = 0\n",
        "    def __init__(self):\n",
        "        Person.count += 1\n",
        "    @classmethod\n",
        "    def get_count(cls):\n",
        "        return cls.count"
      ],
      "metadata": {
        "id": "IlChUNRGzXbH"
      },
      "execution_count": null,
      "outputs": []
    },
    {
      "cell_type": "code",
      "source": [
        "# 9. Write a class Fraction with attributes numerator and denominator. Override the str method to display the fraction as \"numerator/denominator\".\n",
        "\n",
        "class Fraction:\n",
        " def __init__(self, numerator, denominator):\n",
        "       self.__numerator = numerator\n",
        "       self.__denominator = denominator\n",
        "\n",
        " def __str__(self):\n",
        "    return f\"{self.__numerator} / {self.__denominator}\"\n"
      ],
      "metadata": {
        "id": "mL-Pp0qJ1Z2O"
      },
      "execution_count": 9,
      "outputs": []
    },
    {
      "cell_type": "code",
      "source": [
        "# 10. Demonstrate operator overloading by creating a class Vector and overriding the add method to add two vectors.\n",
        "\n",
        "class Vector:\n",
        "    def __init__(self, x, y):\n",
        "        self.x = x\n",
        "        self.y = y\n",
        "    def __add__(self, newobj):\n",
        "        return Vector(self.x + newobj.x, self.y + newobj.y)\n",
        "    def __str__(self):\n",
        "        return f\"{self.x}, {self.y}\""
      ],
      "metadata": {
        "id": "I8HUQG-63896"
      },
      "execution_count": 21,
      "outputs": []
    },
    {
      "cell_type": "code",
      "source": [
        "# 11. Create a class Person with attributes name and age. Add a method greet() that prints \"Hello, my name is {name} and I am {age} years old\n",
        "\n",
        "class Person:\n",
        "  def __init__(self, name, age):\n",
        "    self.name = name\n",
        "    self.age = age\n",
        "  def greet(self):\n",
        "    print(f\"Hello, my name is {self.name} and I am {self.age} years old.\")"
      ],
      "metadata": {
        "id": "_GGjnIsa9npS"
      },
      "execution_count": null,
      "outputs": []
    },
    {
      "cell_type": "code",
      "source": [
        "# 12. Implement a class Student with attributes name and grades. Create a method average_grade() to compute the average of the grades.\n",
        "\n",
        "class Student:\n",
        "    def __init__(self, name, grades):\n",
        "        self.name = name\n",
        "        self.grades = grades\n",
        "    def average_grade(self):\n",
        "        return sum(self.grades) / len(self.grades)"
      ],
      "metadata": {
        "id": "TNRbH3l794m3"
      },
      "execution_count": 24,
      "outputs": []
    },
    {
      "cell_type": "code",
      "source": [
        "#13. Create a class Rectangle with methods set_dimensions() to set the dimensions and area() to calculate the area.\n",
        "\n",
        "class Rectangle:\n",
        "    def __init__(self, length, width):\n",
        "        self.__length = length\n",
        "        self.__width = width\n",
        "    def set_dimensions(self, length, width):\n",
        "        self.__length = length\n",
        "        self.__width = width\n",
        "    def area(self):\n",
        "        return self.__length * self.__width\n",
        ""
      ],
      "metadata": {
        "id": "04yCXbTJ-g_C"
      },
      "execution_count": null,
      "outputs": []
    },
    {
      "cell_type": "code",
      "source": [
        "#14. Create a class Employee with a method calculate_salary() that computes the salary based on hours worked and hourly rate. Create a derived class Manager that adds a bonus to the salary.\n",
        "\n",
        "class Employee:\n",
        "    def __init__(self, empid, hours_worked, hourly_rate):\n",
        "        self.empid = empid\n",
        "        self.hours_worked = hours_worked\n",
        "        self.hourly_rate = hourly_rate\n",
        "\n",
        "    def calculate_salary(self):\n",
        "        return self.hours_worked * self.hourly_rate\n",
        "\n",
        "class Manager(Employee):\n",
        "    def __init__(self, empid, hours_worked, hourly_rate, bonus):\n",
        "        super().__init__(empid, hours_worked, hourly_rate)\n",
        "        if hours_worked > 40:\n",
        "           self.bonus = bonus + 10\n",
        "        else:\n",
        "           self.bonus = bonus\n",
        "\n",
        "    def calculate_salary(self):\n",
        "        return super().calculate_salary() + self.bonus\n",
        "\n",
        "\n",
        "obj = Manager(121,80,25,25)\n",
        "print(obj.calculate_salary())\n",
        "\n"
      ],
      "metadata": {
        "colab": {
          "base_uri": "https://localhost:8080/"
        },
        "id": "L-yLtK9J_tJR",
        "outputId": "461c6c49-6289-4f11-c871-f0e6a1f6eb11"
      },
      "execution_count": 27,
      "outputs": [
        {
          "output_type": "stream",
          "name": "stdout",
          "text": [
            "2035\n"
          ]
        }
      ]
    },
    {
      "cell_type": "code",
      "source": [
        "# 15. Create a class Product with attributes name, price, and quantity. Implement a method total_price() that calculates the total price of the product.\n",
        "\n",
        "class Product:\n",
        "    def __init__(self, name, price, quantity):\n",
        "        self.name = name\n",
        "        self.price = price\n",
        "        self.quantity = quantity\n",
        "    def total_price(self):\n",
        "        return self.price * self.quantity"
      ],
      "metadata": {
        "id": "AE_brzqqBpeI"
      },
      "execution_count": null,
      "outputs": []
    },
    {
      "cell_type": "code",
      "source": [
        "# 16. Create a class Animal with an abstract method sound(). Create two derived classes Cow and Sheep that implement the sound() method\n",
        "\n",
        "class Animal:\n",
        "    def sound(self):\n",
        "        pass\n",
        "\n",
        "class Cow(Animal):\n",
        "    def sound(self):\n",
        "        return \"Moo\"\n",
        "\n",
        "class Sheep(Animal):\n",
        "    def sound(self):\n",
        "        return \"Baa\""
      ],
      "metadata": {
        "id": "228ZTOEZB4qA"
      },
      "execution_count": 28,
      "outputs": []
    },
    {
      "cell_type": "code",
      "source": [
        "#17. Create a class Book with attributes title, author, and year_published. Add a method get_book_info() that returns a formatted string with the book's details.\n",
        "\n",
        "class Book:\n",
        "    def __init__(self, title, author, year_published):\n",
        "        self.title = title\n",
        "        self.author = author\n",
        "        self.year_published = year_published\n",
        "\n",
        "    def get_book_info(self):\n",
        "        return f\"Title: {self.title}\\nAuthor: {self.author}\\nYear Published: {self.year_published}\""
      ],
      "metadata": {
        "id": "0_SxlV4uCK0w"
      },
      "execution_count": 29,
      "outputs": []
    },
    {
      "cell_type": "code",
      "source": [
        "#18. Create a class House with attributes address and price. Create a derived class Mansion that adds an attribute number_of_rooms.\n",
        "\n",
        "class House:\n",
        "    def __init__(self, address, price):\n",
        "        self.address = address\n",
        "        self.price = price\n",
        "\n",
        "class Mansion(House):\n",
        "    def __init__(self, address, price, number_of_rooms):\n",
        "        super().__init__(address, price)\n",
        "        self.number_of_rooms = number_of_rooms"
      ],
      "metadata": {
        "id": "YmVQPertChae"
      },
      "execution_count": null,
      "outputs": []
    }
  ]
}